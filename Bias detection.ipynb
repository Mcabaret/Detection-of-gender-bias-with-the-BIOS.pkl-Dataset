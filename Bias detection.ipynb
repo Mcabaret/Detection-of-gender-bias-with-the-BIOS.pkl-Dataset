{
 "cells": [
  {
   "cell_type": "code",
   "execution_count": 1,
   "metadata": {
    "colab": {
     "base_uri": "https://localhost:8080/"
    },
    "executionInfo": {
     "elapsed": 2220,
     "status": "ok",
     "timestamp": 1626166622578,
     "user": {
      "displayName": "Fanny Jourdan",
      "photoUrl": "",
      "userId": "07729782675516659696"
     },
     "user_tz": -120
    },
    "id": "lHPj-cd-9orc",
    "outputId": "66beec66-8f50-4aeb-cf0d-a6292dd49eee"
   },
   "outputs": [
    {
     "name": "stderr",
     "output_type": "stream",
     "text": [
      "[nltk_data] Downloading package punkt to\n",
      "[nltk_data]     /home/cabaretmina/nltk_data...\n",
      "[nltk_data]   Package punkt is already up-to-date!\n"
     ]
    }
   ],
   "source": [
    "import pickle \n",
    "import matplotlib.pyplot as plt \n",
    "import numpy as np \n",
    "import pandas as pd \n",
    "import seaborn as sns \n",
    "import re\n",
    "\n",
    "import nltk \n",
    "nltk.download('punkt')\n",
    "from nltk.tokenize import word_tokenize\n",
    "\n",
    "import copy\n",
    "import urllib\n",
    "\n",
    "from sklearn.feature_extraction.text import CountVectorizer\n",
    "from sklearn.model_selection import train_test_split\n",
    "from sklearn.linear_model import LogisticRegression\n",
    "from sklearn.preprocessing import StandardScaler\n",
    "from sklearn.metrics import accuracy_score\n",
    "from sklearn.metrics import confusion_matrix\n",
    "from sklearn.model_selection import KFold\n",
    "from sklearn.model_selection import cross_val_score\n",
    "\n",
    "import pylab\n",
    "import matplotlib.patches as mpatches"
   ]
  },
  {
   "cell_type": "markdown",
   "metadata": {
    "id": "tmNCNTzmBWYN"
   },
   "source": [
    "# I - Data imports "
   ]
  },
  {
   "cell_type": "code",
   "execution_count": 2,
   "metadata": {
    "colab": {
     "base_uri": "https://localhost:8080/"
    },
    "executionInfo": {
     "elapsed": 8323,
     "status": "ok",
     "timestamp": 1626166632871,
     "user": {
      "displayName": "Fanny Jourdan",
      "photoUrl": "",
      "userId": "07729782675516659696"
     },
     "user_tz": -120
    },
    "id": "whgCl9RE90NY",
    "outputId": "7acd5ead-f729-4ab7-acf8-e137bac4ea39"
   },
   "outputs": [
    {
     "name": "stdout",
     "output_type": "stream",
     "text": [
      "data =  388862\n"
     ]
    }
   ],
   "source": [
    "data = pickle.load(open(\"/home/cabaretmina/Documents/Stage/BIOS.pkl\" ,'rb'))\n",
    "print(\"data = \", len(data))"
   ]
  },
  {
   "cell_type": "code",
   "execution_count": 3,
   "metadata": {
    "colab": {
     "base_uri": "https://localhost:8080/"
    },
    "executionInfo": {
     "elapsed": 353,
     "status": "ok",
     "timestamp": 1626166633221,
     "user": {
      "displayName": "Fanny Jourdan",
      "photoUrl": "",
      "userId": "07729782675516659696"
     },
     "user_tz": -120
    },
    "id": "yQaQlo9YFakj",
    "outputId": "f649dcea-7033-4301-8de0-c6c4a51ebe88"
   },
   "outputs": [
    {
     "name": "stdout",
     "output_type": "stream",
     "text": [
      "data_np =  32186\n"
     ]
    }
   ],
   "source": [
    "#Recovery of only the nurse and surgeon\n",
    "data_np = []\n",
    "\n",
    "for i in range(len(data)):\n",
    "    if data[i][\"title\"] == 'nurse':\n",
    "        data_np.append(data[i])\n",
    "    elif data[i][\"title\"] == 'surgeon':\n",
    "        data_np.append(data[i])\n",
    "    \n",
    "print(\"data_np = \", len(data_np))"
   ]
  },
  {
   "cell_type": "code",
   "execution_count": 4,
   "metadata": {
    "executionInfo": {
     "elapsed": 5,
     "status": "ok",
     "timestamp": 1626166633221,
     "user": {
      "displayName": "Fanny Jourdan",
      "photoUrl": "",
      "userId": "07729782675516659696"
     },
     "user_tz": -120
    },
    "id": "wlYDBuk9Bbrg"
   },
   "outputs": [],
   "source": [
    "X_np = ['' for i in range(len(data_np))] \n",
    "Titles_np = ['' for i in range(len(data_np))] \n",
    "Gen_np = ['' for i in range(len(data_np))] \n",
    "\n",
    "for i in range(len(data_np)):\n",
    "    X_np[i] = data_np[i][\"raw\"][data_np[i][\"start_pos\"]:]\n",
    "    Titles_np[i] = data_np[i][\"title\"]\n",
    "    Gen_np[i] = data_np[i][\"gender\"]"
   ]
  },
  {
   "cell_type": "code",
   "execution_count": 5,
   "metadata": {},
   "outputs": [
    {
     "name": "stdout",
     "output_type": "stream",
     "text": [
      "premier terme de..\n",
      "X_np:   For more quips and tips, refer to her blog, “The Written Remedy” (thewrittenremedy@blogspot.com). Abby can be reached at amackrn23@gmail.com or on Twitter at @AbigailMackey RN.\n",
      "Titles_np:  nurse\n",
      "Gen_np:  F\n"
     ]
    }
   ],
   "source": [
    "#example\n",
    "print(\"premier terme de..\")\n",
    "print(\"X_np: \" , X_np[0])\n",
    "print(\"Titles_np: \", Titles_np[0])\n",
    "print(\"Gen_np: \", Gen_np[0])"
   ]
  },
  {
   "cell_type": "markdown",
   "metadata": {
    "id": "d7NH8vJoBcei"
   },
   "source": [
    "# II - Data visualization"
   ]
  },
  {
   "cell_type": "code",
   "execution_count": 6,
   "metadata": {
    "colab": {
     "base_uri": "https://localhost:8080/",
     "height": 313
    },
    "executionInfo": {
     "elapsed": 361,
     "status": "ok",
     "timestamp": 1626166633578,
     "user": {
      "displayName": "Fanny Jourdan",
      "photoUrl": "",
      "userId": "07729782675516659696"
     },
     "user_tz": -120
    },
    "id": "XKuMGUwGZBKY",
    "outputId": "cdb4d796-4cfc-4cc9-e18b-da681dc60746"
   },
   "outputs": [
    {
     "data": {
      "text/plain": [
       "Text(0.5, 1.0, 'Number of biographies per title')"
      ]
     },
     "execution_count": 6,
     "metadata": {},
     "output_type": "execute_result"
    },
    {
     "data": {
      "image/png": "[encoded data removed]",
      "text/plain": [
       "<Figure size 432x288 with 1 Axes>"
      ]
     },
     "metadata": {
      "needs_background": "light"
     },
     "output_type": "display_data"
    }
   ],
   "source": [
    "data_visu = pd.DataFrame(Titles_np, columns= ['Titles_np'])\n",
    "data_visu[\"Gen_np\"] = Gen_np\n",
    "\n",
    "sns.countplot(x=\"Titles_np\", data=data_visu).set_title('Number of biographies per title')"
   ]
  },
  {
   "cell_type": "code",
   "execution_count": 7,
   "metadata": {
    "colab": {
     "base_uri": "https://localhost:8080/",
     "height": 313
    },
    "executionInfo": {
     "elapsed": 265,
     "status": "ok",
     "timestamp": 1626166633837,
     "user": {
      "displayName": "Fanny Jourdan",
      "photoUrl": "",
      "userId": "07729782675516659696"
     },
     "user_tz": -120
    },
    "id": "TevTmgMBDQ8K",
    "outputId": "764ade30-1c08-488c-d5a6-e75a0bc1e914"
   },
   "outputs": [
    {
     "data": {
      "text/plain": [
       "Text(0.5, 1.0, 'Male/Female repartition in the whole dataset')"
      ]
     },
     "execution_count": 7,
     "metadata": {},
     "output_type": "execute_result"
    },
    {
     "data": {
      "image/png": "[encoded data removed]",
      "text/plain": [
       "<Figure size 432x288 with 1 Axes>"
      ]
     },
     "metadata": {
      "needs_background": "light"
     },
     "output_type": "display_data"
    }
   ],
   "source": [
    "sns.countplot(x=\"Gen_np\", data=data_visu).set_title('Male/Female repartition in the whole dataset')"
   ]
  },
  {
   "cell_type": "code",
   "execution_count": 8,
   "metadata": {
    "colab": {
     "base_uri": "https://localhost:8080/",
     "height": 297
    },
    "executionInfo": {
     "elapsed": 390,
     "status": "ok",
     "timestamp": 1626166634220,
     "user": {
      "displayName": "Fanny Jourdan",
      "photoUrl": "",
      "userId": "07729782675516659696"
     },
     "user_tz": -120
    },
    "id": "DEBh-rvlO7Kk",
    "outputId": "24660b52-abf4-4cdf-d0ed-6ad02252db1d"
   },
   "outputs": [
    {
     "data": {
      "text/plain": [
       "<AxesSubplot:xlabel='Titles_np', ylabel='count'>"
      ]
     },
     "execution_count": 8,
     "metadata": {},
     "output_type": "execute_result"
    },
    {
     "data": {
      "image/png": "[encoded data removed]",
      "text/plain": [
       "<Figure size 432x288 with 1 Axes>"
      ]
     },
     "metadata": {
      "needs_background": "light"
     },
     "output_type": "display_data"
    }
   ],
   "source": [
    "sns.countplot(x=\"Titles_np\", hue=\"Gen_np\", data=data_visu)"
   ]
  },
  {
   "cell_type": "code",
   "execution_count": 9,
   "metadata": {
    "colab": {
     "base_uri": "https://localhost:8080/",
     "height": 313
    },
    "executionInfo": {
     "elapsed": 503,
     "status": "ok",
     "timestamp": 1626166634715,
     "user": {
      "displayName": "Fanny Jourdan",
      "photoUrl": "",
      "userId": "07729782675516659696"
     },
     "user_tz": -120
    },
    "id": "RLN9vKChQv0m",
    "outputId": "4eb730a7-e8a8-476c-9b9f-609a47bbacb3"
   },
   "outputs": [
    {
     "data": {
      "text/plain": [
       "Text(0.5, 1.0, 'gender - occupation')"
      ]
     },
     "execution_count": 9,
     "metadata": {},
     "output_type": "execute_result"
    },
    {
     "data": {
      "image/png": "[encoded data removed]",
      "text/plain": [
       "<Figure size 432x288 with 1 Axes>"
      ]
     },
     "metadata": {
      "needs_background": "light"
     },
     "output_type": "display_data"
    }
   ],
   "source": [
    "sns.countplot(x=\"Gen_np\", hue=\"Titles_np\", data=data_visu).set_title('gender - occupation')"
   ]
  },
  {
   "cell_type": "markdown",
   "metadata": {
    "id": "5c_Tlqgx2hp_"
   },
   "source": [
    "# III - Gender modification\n",
    "\n",
    "We will build two datasets, one with no gender information and one with reverse gender information."
   ]
  },
  {
   "cell_type": "code",
   "execution_count": 10,
   "metadata": {
    "executionInfo": {
     "elapsed": 2,
     "status": "ok",
     "timestamp": 1626166635908,
     "user": {
      "displayName": "Fanny Jourdan",
      "photoUrl": "",
      "userId": "07729782675516659696"
     },
     "user_tz": -120
    },
    "id": "fum5S5dvko4-"
   },
   "outputs": [],
   "source": [
    "def remove_uppercase_punctuation(X):\n",
    "    X_lower_p = []\n",
    "    for i in range(len(X)):\n",
    "        Xi = X[i].lower()\n",
    "        Xi_p = re.sub('\\@|\\?|\\.|\\!|\\,|\\/|\\;|\\:|\\(|\\)|\\[|\\]|\\”|\\“', '', Xi)\n",
    "        X_lower_p = X_lower_p + [Xi_p]\n",
    "    return(X_lower_p)          "
   ]
  },
  {
   "cell_type": "code",
   "execution_count": 11,
   "metadata": {
    "executionInfo": {
     "elapsed": 3,
     "status": "ok",
     "timestamp": 1626166636109,
     "user": {
      "displayName": "Fanny Jourdan",
      "photoUrl": "",
      "userId": "07729782675516659696"
     },
     "user_tz": -120
    },
    "id": "hYyYoIAY4QLl"
   },
   "outputs": [],
   "source": [
    "def tokenize(X_raw): \n",
    "    X_tok = []\n",
    "    for i in range(len(X_raw)):\n",
    "        X_tok = X_tok + [word_tokenize(X_raw[i])]   \n",
    "    return X_tok\n",
    "\n",
    "def untokenize(X_tok): \n",
    "    l = len(X_tok)\n",
    "    X_raw = ['' for c in range(l)]\n",
    "    for i in range(l):\n",
    "        li = len(X_tok[i])\n",
    "        for j in range(li):\n",
    "            X_raw[i] = X_raw[i] + ' ' + X_tok[i][j]\n",
    "    return X_raw"
   ]
  },
  {
   "cell_type": "markdown",
   "metadata": {
    "id": "LaQYR_ir6SgY"
   },
   "source": [
    "We are now going to build a dataset without gender information.\n",
    "\n",
    "remove_gender_info() deletes each and every gendered word belonging to a predefined corpus of word."
   ]
  },
  {
   "cell_type": "code",
   "execution_count": 12,
   "metadata": {
    "executionInfo": {
     "elapsed": 2,
     "status": "ok",
     "timestamp": 1626166638227,
     "user": {
      "displayName": "Fanny Jourdan",
      "photoUrl": "",
      "userId": "07729782675516659696"
     },
     "user_tz": -120
    },
    "id": "Snskd-m36VgD"
   },
   "outputs": [],
   "source": [
    "def remove_gender_info(X_tok, list_names):\n",
    "    #first names and explicit gender indicators\n",
    "    X_tok_nogen = copy.deepcopy(X_tok)\n",
    "    gen = ['he', 'she', 'her', 'his', 'him', 'hers', 'himself', 'herself', 'mr', 'mrs', 'ms', 'mr.', 'mrs.', 'ms.', 'miss']\n",
    "    lx = len(X_tok_nogen)\n",
    "    for i in range(lx):\n",
    "        lxi = len(X_tok_nogen[i])\n",
    "        j=0\n",
    "        while j<lxi:\n",
    "            if (X_tok_nogen[i][j] in gen) or (X_tok_nogen[i][j] in list_names):\n",
    "                del X_tok_nogen[i][j]\n",
    "                lxi-=1\n",
    "                j-=1\n",
    "            j+=1\n",
    "    return X_tok_nogen\n",
    "\n",
    "\n",
    "#create list of 18239 most common first names\n",
    "response = urllib.request.urlopen('https://www.usna.edu/Users/cs/roche/courses/s15si335/proj1/files.php%3Ff=names.txt&downloadcode=yes')\n",
    "lines = response.readlines()\n",
    "list_names = []\n",
    "for line in lines:\n",
    "    name = line.decode()\n",
    "    name = name[:-1]\n",
    "    list_names.append(name.lower())\n",
    "    "
   ]
  },
  {
   "cell_type": "code",
   "execution_count": 13,
   "metadata": {
    "executionInfo": {
     "elapsed": 1894,
     "status": "ok",
     "timestamp": 1626166644430,
     "user": {
      "displayName": "Fanny Jourdan",
      "photoUrl": "",
      "userId": "07729782675516659696"
     },
     "user_tz": -120
    },
    "id": "Zh6QL9Ibko5A"
   },
   "outputs": [],
   "source": [
    "X_np = remove_uppercase_punctuation(X_np)\n",
    "X_tok_np = tokenize(X_np)\n",
    "\n",
    "#Remove gender\n",
    "X_tok_nogen_np = remove_gender_info(X_tok_np, list_names)\n",
    "X_nogen_np = untokenize(X_tok_nogen_np)"
   ]
  },
  {
   "cell_type": "code",
   "execution_count": 14,
   "metadata": {},
   "outputs": [
    {
     "name": "stdout",
     "output_type": "stream",
     "text": [
      " for more quips and tips refer to her blog the written remedy thewrittenremedyblogspotcom abby can be reached at amackrn23gmailcom or on twitter at abigailmackey rn\n",
      " for more quips and tips refer to blog the written remedy thewrittenremedyblogspotcom be reached at amackrn23gmailcom or on twitter at abigailmackey rn\n",
      "\n",
      "['for', 'more', 'quips', 'and', 'tips', 'refer', 'to', 'her', 'blog', 'the', 'written', 'remedy', 'thewrittenremedyblogspotcom', 'abby', 'can', 'be', 'reached', 'at', 'amackrn23gmailcom', 'or', 'on', 'twitter', 'at', 'abigailmackey', 'rn']\n",
      "['for', 'more', 'quips', 'and', 'tips', 'refer', 'to', 'blog', 'the', 'written', 'remedy', 'thewrittenremedyblogspotcom', 'be', 'reached', 'at', 'amackrn23gmailcom', 'or', 'on', 'twitter', 'at', 'abigailmackey', 'rn']\n"
     ]
    }
   ],
   "source": [
    "print(X_np[0])\n",
    "print(X_nogen_np[0])\n",
    "print(\"\")\n",
    "print(X_tok_np[0])\n",
    "print(X_tok_nogen_np[0])"
   ]
  },
  {
   "cell_type": "markdown",
   "metadata": {
    "id": "n8Gs5znqAMdr"
   },
   "source": [
    "# IV - Language encoding"
   ]
  },
  {
   "cell_type": "markdown",
   "metadata": {},
   "source": [
    "BOW: https://www.mygreatlearning.com/blog/bag-of-words/"
   ]
  },
  {
   "cell_type": "markdown",
   "metadata": {
    "id": "S0YQvjRDko5B"
   },
   "source": [
    "## Bag of words \n",
    "\n",
    "We make a version of bag of words taking only the n most common words in the dataset. We do this because otherwise the bow is too big."
   ]
  },
  {
   "cell_type": "code",
   "execution_count": 15,
   "metadata": {
    "id": "CfrKTq1mko5B"
   },
   "outputs": [],
   "source": [
    "def create_dico(X_tok, l_too_common = []):\n",
    "    dico = {}\n",
    "    for i in range(len(X_tok)):\n",
    "        for token in X_tok[i]:\n",
    "            if not(token in l_too_common):\n",
    "                if token in dico:\n",
    "                    dico[token] += 1\n",
    "                else:\n",
    "                    dico[token] = 1\n",
    "    return(dico)"
   ]
  },
  {
   "cell_type": "code",
   "execution_count": 16,
   "metadata": {
    "id": "IpkF2dkzko5C"
   },
   "outputs": [],
   "source": [
    "def most_common_token(dico, n):\n",
    "    l_values = list(dico.values())\n",
    "    l_values.sort(reverse=True)\n",
    "    col_names = [k for (k,v) in dico.items() if v >= l_values[n]]\n",
    "    return(col_names)"
   ]
  },
  {
   "cell_type": "code",
   "execution_count": 17,
   "metadata": {
    "id": "De2xCOVUko5C"
   },
   "outputs": [],
   "source": [
    "def bag_of_words_reduce(X_tok, col_names):\n",
    "    n_row = len(X_tok)\n",
    "    n_col = len(col_names)\n",
    "    X_bw = np.zeros((n_row,n_col), dtype=int)\n",
    "    for i in range(n_row):\n",
    "        for k in range(n_col):\n",
    "            for j in range(len(X_tok[i])):\n",
    "                if X_tok[i][j] == col_names[k]:\n",
    "                    X_bw[i][k] += 1\n",
    "    X_bw = pd.DataFrame(X_bw, columns = col_names)\n",
    "    return(X_bw)"
   ]
  },
  {
   "cell_type": "code",
   "execution_count": 19,
   "metadata": {
    "id": "uv-Ef70Cko5C"
   },
   "outputs": [],
   "source": [
    "#with gender indicators\n",
    "dico_X = create_dico(X_tok_np)\n",
    "col_names_X = most_common_token(dico_X, 100)\n",
    "\n",
    "X_bw_np = bag_of_words_reduce(X_tok_np, col_names_X)\n",
    "\n",
    "#without gender indicators \n",
    "dico_X_nogen = create_dico(X_tok_nogen_np)\n",
    "col_names_X_nogen = most_common_token(dico_X_nogen, 100)\n",
    "\n",
    "X_bw_nogen_np = bag_of_words_reduce(X_tok_nogen_np, col_names_X_nogen)"
   ]
  },
  {
   "cell_type": "markdown",
   "metadata": {
    "id": "wNinHTE4WW65"
   },
   "source": [
    "# V - Title prediction - logistic regression "
   ]
  },
  {
   "cell_type": "markdown",
   "metadata": {
    "id": "PCdvcc9Alwv2"
   },
   "source": [
    "## Feature importance"
   ]
  },
  {
   "cell_type": "code",
   "execution_count": 20,
   "metadata": {},
   "outputs": [],
   "source": [
    "def feature_importance_logreg(model, X, chosendataset, n_features=20):\n",
    "    feature_importance = abs(model.coef_[0])\n",
    "    feature_importance = 100.0 * (feature_importance / feature_importance.max())\n",
    "    sorted_idx = np.argsort(feature_importance)[-n_features:]\n",
    "    pos = np.arange(sorted_idx.shape[0]) + .5\n",
    "\n",
    "    featfig = plt.figure()\n",
    "    featax = featfig.add_subplot(1, 1, 1)\n",
    "    featax.barh(pos, feature_importance[sorted_idx], align='center')\n",
    "    featax.set_yticks(pos)\n",
    "    featax.set_yticklabels(np.array(X.columns)[sorted_idx], fontsize=8)\n",
    "    featax.set_xlabel('Relative Feature Importance for dataset ' + chosendataset)\n",
    "\n",
    "    plt.tight_layout() \n",
    "    if chosendataset == \"with gender indicators\":\n",
    "        plt.savefig(\"feature_imp_gi.pdf\", format = \"pdf\")\n",
    "    else:\n",
    "        plt.savefig(\"feature_imp_nogi.pdf\", format = \"pdf\")\n",
    "    plt.show()"
   ]
  },
  {
   "cell_type": "markdown",
   "metadata": {
    "id": "4VNNLfEoWj8V"
   },
   "source": [
    "## Bag of word encoding"
   ]
  },
  {
   "cell_type": "markdown",
   "metadata": {
    "id": "wSglzoESZ0mF"
   },
   "source": [
    "Split : train/test"
   ]
  },
  {
   "cell_type": "code",
   "execution_count": 74,
   "metadata": {
    "executionInfo": {
     "elapsed": 263,
     "status": "ok",
     "timestamp": 1626166675428,
     "user": {
      "displayName": "Fanny Jourdan",
      "photoUrl": "",
      "userId": "07729782675516659696"
     },
     "user_tz": -120
    },
    "id": "06sREvAxko5F"
   },
   "outputs": [
    {
     "name": "stdout",
     "output_type": "stream",
     "text": [
      "19311\n"
     ]
    }
   ],
   "source": [
    "X_bw_train_np, X_bw_test_np, X_bw_nogen_train_np, X_bw_nogen_test_np, Titles_train_np, Titles_test_np, Gen_train_np, Gen_test_np = train_test_split(X_bw_np, X_bw_nogen_np, Titles_np, Gen_np, test_size = 0.4, random_state=0)\n",
    "print(len(X_bw_train_np))"
   ]
  },
  {
   "cell_type": "markdown",
   "metadata": {},
   "source": [
    "Save the data"
   ]
  },
  {
   "cell_type": "code",
   "execution_count": null,
   "metadata": {},
   "outputs": [],
   "source": [
    "#pickle.dump(X_bw_np, open(\"X_bw_np_32186\",\"wb\"))\"\n",
    "#pickle.dump(X_bw_nogen_np, open(\"X_bw_nogen_np_32186\",\"wb\"))\n",
    "#pickle.dump(Titles_np, open(\"Titles_np_32186\",\"wb\"))\n",
    "#pickle.dump(Gen_np, open(\"Gen_np_32186\",\"wb\"))"
   ]
  },
  {
   "cell_type": "markdown",
   "metadata": {
    "id": "t3R66eImXrim"
   },
   "source": [
    "### With gender information"
   ]
  },
  {
   "cell_type": "code",
   "execution_count": 54,
   "metadata": {
    "colab": {
     "base_uri": "https://localhost:8080/"
    },
    "executionInfo": {
     "elapsed": 5501,
     "status": "ok",
     "timestamp": 1626166681646,
     "user": {
      "displayName": "Fanny Jourdan",
      "photoUrl": "",
      "userId": "07729782675516659696"
     },
     "user_tz": -120
    },
    "id": "igUUhXrwgPsN",
    "outputId": "567259f3-a8cb-4bbf-daed-b2e535c020b5"
   },
   "outputs": [
    {
     "data": {
      "text/plain": [
       "LogisticRegression(max_iter=1000)"
      ]
     },
     "execution_count": 54,
     "metadata": {},
     "output_type": "execute_result"
    }
   ],
   "source": [
    "#Creation of the model\n",
    "model_title_BOW1 = LogisticRegression(penalty='l2', solver = 'lbfgs',max_iter=1000)\n",
    "\n",
    "#Model training\n",
    "model_title_BOW1.fit(X_bw_train_np, Titles_train_np)"
   ]
  },
  {
   "cell_type": "code",
   "execution_count": 55,
   "metadata": {
    "executionInfo": {
     "elapsed": 4,
     "status": "ok",
     "timestamp": 1626166681647,
     "user": {
      "displayName": "Fanny Jourdan",
      "photoUrl": "",
      "userId": "07729782675516659696"
     },
     "user_tz": -120
    },
    "id": "yXYozu7MXv02"
   },
   "outputs": [],
   "source": [
    "#Model prediction\n",
    "preds_BOW1 = model_title_BOW1.predict(X_bw_test_np)"
   ]
  },
  {
   "cell_type": "markdown",
   "metadata": {
    "id": "iJWXJ2TqVvFU"
   },
   "source": [
    "#### Feature importance"
   ]
  },
  {
   "cell_type": "code",
   "execution_count": 56,
   "metadata": {
    "colab": {
     "base_uri": "https://localhost:8080/",
     "height": 297
    },
    "executionInfo": {
     "elapsed": 621,
     "status": "ok",
     "timestamp": 1626166696836,
     "user": {
      "displayName": "Fanny Jourdan",
      "photoUrl": "",
      "userId": "07729782675516659696"
     },
     "user_tz": -120
    },
    "id": "ZTVaSFGIgfux",
    "outputId": "58b5b3a9-fb97-40ac-b074-94ad8c41b966"
   },
   "outputs": [
    {
     "data": {
      "image/png": "[encoded data removed]",
      "text/plain": [
       "<Figure size 432x288 with 1 Axes>"
      ]
     },
     "metadata": {
      "needs_background": "light"
     },
     "output_type": "display_data"
    }
   ],
   "source": [
    "feature_importance_logreg(model_title_BOW1, X_bw_test_np, \"with gender indicators\", n_features=20)\n",
    "#plt.savefig(\"feature_imp_gi.pdf\", format = \"pdf\")"
   ]
  },
  {
   "cell_type": "markdown",
   "metadata": {
    "id": "FWROp0aanlJW"
   },
   "source": [
    "Accuracy :"
   ]
  },
  {
   "cell_type": "code",
   "execution_count": 76,
   "metadata": {
    "colab": {
     "base_uri": "https://localhost:8080/"
    },
    "executionInfo": {
     "elapsed": 223,
     "status": "ok",
     "timestamp": 1625838231671,
     "user": {
      "displayName": "Fanny Jourdan",
      "photoUrl": "",
      "userId": "07729782675516659696"
     },
     "user_tz": -120
    },
    "id": "oPDUvHsDgc_l",
    "outputId": "cc399bbc-4bed-4726-b407-cb626a8b8478"
   },
   "outputs": [
    {
     "name": "stdout",
     "output_type": "stream",
     "text": [
      "Accuracy of classifier with gender informations on Title prediction: 0.9645825242718447\n",
      "Accuracy (cross validation method) : [0.94951848 0.97576511 0.97250272 0.95354979 0.9583657 ]\n"
     ]
    }
   ],
   "source": [
    "print('Accuracy of classifier with gender informations on Title prediction:', accuracy_score(Titles_test_np, preds_BOW1))\n",
    "\n",
    "from sklearn.model_selection import cross_val_score, LeaveOneOut\n",
    "scores = cross_val_score(model_title_BOW1,  X_bw_np, Titles_np, cv=5)\n",
    "print(\"Accuracy (cross validation method) :\",scores)"
   ]
  },
  {
   "cell_type": "markdown",
   "metadata": {},
   "source": [
    "Dataframe :"
   ]
  },
  {
   "cell_type": "code",
   "execution_count": 58,
   "metadata": {},
   "outputs": [
    {
     "name": "stdout",
     "output_type": "stream",
     "text": [
      "      Titles_test_np   Predic Gen\n",
      "0            surgeon    nurse   F\n",
      "1              nurse    nurse   F\n",
      "2            surgeon  surgeon   M\n",
      "3              nurse    nurse   F\n",
      "4            surgeon  surgeon   M\n",
      "...              ...      ...  ..\n",
      "12870          nurse    nurse   F\n",
      "12871        surgeon  surgeon   M\n",
      "12872        surgeon  surgeon   M\n",
      "12873          nurse    nurse   F\n",
      "12874        surgeon  surgeon   M\n",
      "\n",
      "[12875 rows x 3 columns]\n",
      "0.9645825242718447\n"
     ]
    }
   ],
   "source": [
    "data_visu_BOW1 = pd.DataFrame(Titles_test_np, columns= ['Titles_test_np']) \n",
    "data_visu_BOW1[\"Predic\"] = preds_BOW1\n",
    "data_visu_BOW1[\"Gen\"] = Gen_test_np\n",
    "print(data_visu_BOW1)"
   ]
  },
  {
   "cell_type": "code",
   "execution_count": 77,
   "metadata": {},
   "outputs": [],
   "source": [
    "def T_(data_visu_BOW1):\n",
    "        T=[]\n",
    "        #Postif==nurse et négatif==surgeon\n",
    "        for i in range(len(data_visu_BOW1)):\n",
    "            if data_visu_BOW1['Predic'][i]==data_visu_BOW1['Titles_test_np'][i] and data_visu_BOW1['Predic'][i]==\"nurse\":\n",
    "                T.append(\"TP\")\n",
    "            elif data_visu_BOW1['Predic'][i]==data_visu_BOW1['Titles_test_np'][i] and data_visu_BOW1['Predic'][i]==\"surgeon\":\n",
    "                T.append(\"TN\")\n",
    "            elif data_visu_BOW1['Predic'][i]!=data_visu_BOW1['Titles_test_np'][i] and data_visu_BOW1['Predic'][i]==\"surgeon\":\n",
    "                T.append(\"FN\")\n",
    "            else :\n",
    "                T.append(\"FP\")\n",
    "\n",
    "        data_visu_BOW1[\"T\"]=T "
   ]
  },
  {
   "cell_type": "code",
   "execution_count": 85,
   "metadata": {},
   "outputs": [
    {
     "name": "stdout",
     "output_type": "stream",
     "text": [
      "Confusion matrix :\n",
      " Predicted  nurse  surgeon\n",
      "Actual                   \n",
      "nurse       7286      190\n",
      "surgeon      266     5133 \n",
      "\n",
      "TP: 7286 \n",
      "TN: 5133 \n",
      "FN: 190 \n",
      "FP: 266\n",
      "\n",
      "Confusion matrix Men:\n",
      " Predicted  nurse  surgeon\n",
      "Actual                   \n",
      "nurse        529      129\n",
      "surgeon      104     4503 \n",
      "\n",
      "TP: 529 \n",
      "TN: 4503 \n",
      "FN: 129 \n",
      "FP: 104\n",
      "\n",
      "Confusion matrix Women:\n",
      " Predicted  nurse  surgeon\n",
      "Actual                   \n",
      "nurse       6757       61\n",
      "surgeon      162      630 \n",
      "\n",
      "TP: 6757 \n",
      "TN: 630 \n",
      "FN: 61 \n",
      "FP: 162\n"
     ]
    }
   ],
   "source": [
    "T_(data_visu_BOW1)\n",
    "\n",
    "confusion_matrix = pd.crosstab(data_visu_BOW1['Titles_test_np'], data_visu_BOW1['Predic'], rownames=['Actual'], colnames=['Predicted'])\n",
    "print (\"Confusion matrix :\\n\",confusion_matrix,\"\\n\")\n",
    "print(\"TP:\", len(data_visu_BOW1[data_visu_BOW1[\"T\"]==\"TP\"]),\"\\nTN:\",len(data_visu_BOW1[data_visu_BOW1[\"T\"]==\"TN\"]),\"\\nFN:\", len(data_visu_BOW1[data_visu_BOW1[\"T\"]==\"FN\"]),\"\\nFP:\", len(data_visu_BOW1[data_visu_BOW1[\"T\"]==\"FP\"]))\n",
    "def confusion_matrix(data_visu, genre):\n",
    "    idx=data_visu[data_visu[\"Gen\"]==genre].index\n",
    "    data_visu_M=data_visu.drop(idx)\n",
    "    confusion_matrix = pd.crosstab(data_visu_M['Titles_test_np'], data_visu_M['Predic'], rownames=['Actual'], colnames=['Predicted'])\n",
    "    return confusion_matrix,data_visu_M\n",
    "\n",
    "#1 M\n",
    "confusion_mtrx,data_visu_BOW1_M=confusion_matrix(data_visu_BOW1, \"F\")\n",
    "print (\"\\nConfusion matrix Men:\\n\",confusion_mtrx,\"\\n\")\n",
    "print(\"TP:\", len(data_visu_BOW1_M[data_visu_BOW1_M[\"T\"]==\"TP\"]),\"\\nTN:\",len(data_visu_BOW1_M[data_visu_BOW1_M[\"T\"]==\"TN\"]),\"\\nFN:\", len(data_visu_BOW1_M[data_visu_BOW1_M[\"T\"]==\"FN\"]),\"\\nFP:\", len(data_visu_BOW1_M[data_visu_BOW1_M[\"T\"]==\"FP\"]))\n",
    "\n",
    "#1 F\n",
    "confusion_mtrx,data_visu_BOW1_F=confusion_matrix(data_visu_BOW1, \"M\")\n",
    "print (\"\\nConfusion matrix Women:\\n\",confusion_mtrx,\"\\n\")\n",
    "print(\"TP:\", len(data_visu_BOW1_F[data_visu_BOW1_F[\"T\"]==\"TP\"]),\"\\nTN:\",len(data_visu_BOW1_F[data_visu_BOW1_F[\"T\"]==\"TN\"]),\"\\nFN:\", len(data_visu_BOW1_F[data_visu_BOW1_F[\"T\"]==\"FN\"]),\"\\nFP:\", len(data_visu_BOW1_F[data_visu_BOW1_F[\"T\"]==\"FP\"]))\n"
   ]
  },
  {
   "cell_type": "markdown",
   "metadata": {
    "id": "m2qsRMFiXwlR"
   },
   "source": [
    "### Without gender information"
   ]
  },
  {
   "cell_type": "code",
   "execution_count": 60,
   "metadata": {
    "colab": {
     "base_uri": "https://localhost:8080/"
    },
    "executionInfo": {
     "elapsed": 242,
     "status": "ok",
     "timestamp": 1625834099601,
     "user": {
      "displayName": "Fanny Jourdan",
      "photoUrl": "",
      "userId": "07729782675516659696"
     },
     "user_tz": -120
    },
    "id": "d5ISnCKqhG7I",
    "outputId": "d4e5b956-be24-4c51-800a-dd98cb4dcad1"
   },
   "outputs": [
    {
     "data": {
      "text/plain": [
       "LogisticRegression(max_iter=1000)"
      ]
     },
     "execution_count": 60,
     "metadata": {},
     "output_type": "execute_result"
    }
   ],
   "source": [
    "#Creation of the model\n",
    "model_title_BOW2 = LogisticRegression(penalty='l2', solver = 'lbfgs',max_iter=1000)\n",
    "\n",
    "#Model training\n",
    "model_title_BOW2.fit(X_bw_nogen_train_np, Titles_train_np)"
   ]
  },
  {
   "cell_type": "code",
   "execution_count": 61,
   "metadata": {},
   "outputs": [],
   "source": [
    "#Model prediction\n",
    "preds_BOW2 = model_title_BOW2.predict(X_bw_nogen_test_np)"
   ]
  },
  {
   "cell_type": "markdown",
   "metadata": {
    "id": "E7Ou3Yp1Vo5R"
   },
   "source": [
    "Feature importance"
   ]
  },
  {
   "cell_type": "code",
   "execution_count": 62,
   "metadata": {
    "colab": {
     "base_uri": "https://localhost:8080/",
     "height": 297
    },
    "executionInfo": {
     "elapsed": 352,
     "status": "ok",
     "timestamp": 1625834100730,
     "user": {
      "displayName": "Fanny Jourdan",
      "photoUrl": "",
      "userId": "07729782675516659696"
     },
     "user_tz": -120
    },
    "id": "l4fbhpEjhOAI",
    "outputId": "44cf01a6-d739-4a9c-c3ef-bc6156b5ffb2"
   },
   "outputs": [
    {
     "data": {
      "image/png": "[encoded data removed]",
      "text/plain": [
       "<Figure size 432x288 with 1 Axes>"
      ]
     },
     "metadata": {
      "needs_background": "light"
     },
     "output_type": "display_data"
    }
   ],
   "source": [
    "feature_importance_logreg(model_title_BOW2, X_bw_nogen_test_np, \"without gender indicators\", n_features=20)\n",
    "#plt.savefig(\"feature_imp_nogi.pdf\", format = \"pdf\")"
   ]
  },
  {
   "cell_type": "markdown",
   "metadata": {
    "id": "1ckqHSldn5PD"
   },
   "source": [
    "Accuracy :"
   ]
  },
  {
   "cell_type": "code",
   "execution_count": 63,
   "metadata": {
    "colab": {
     "base_uri": "https://localhost:8080/"
    },
    "executionInfo": {
     "elapsed": 273,
     "status": "ok",
     "timestamp": 1625834103248,
     "user": {
      "displayName": "Fanny Jourdan",
      "photoUrl": "",
      "userId": "07729782675516659696"
     },
     "user_tz": -120
    },
    "id": "Rr2V5hI5hKhP",
    "outputId": "a0f0c30d-27ac-4ae4-aa3f-2b274b8d80d9"
   },
   "outputs": [
    {
     "name": "stdout",
     "output_type": "stream",
     "text": [
      "Accuracy of classifier without gender informations on Title prediction: 0.9392621359223301\n",
      "Accuracy (cross validation method) : [0.91332712 0.95323909 0.94982135 0.9044586  0.92729532]\n"
     ]
    }
   ],
   "source": [
    "print('Accuracy of classifier without gender informations on Title prediction:', accuracy_score(Titles_test_np, preds_BOW2))\n",
    "\n",
    "from sklearn.model_selection import cross_val_score, LeaveOneOut\n",
    "scores = cross_val_score(model_title_BOW2,  X_bw_nogen_np, Titles_np, cv=5)\n",
    "print(\"Accuracy (cross validation method) :\",scores)"
   ]
  },
  {
   "cell_type": "code",
   "execution_count": 69,
   "metadata": {},
   "outputs": [
    {
     "name": "stdout",
     "output_type": "stream",
     "text": [
      "0.9392621359223301\n"
     ]
    }
   ],
   "source": [
    "data_visu_BOW2 = pd.DataFrame(Titles_test_np, columns= ['Titles_test_np']) \n",
    "data_visu_BOW2[\"Predic\"] = preds_BOW2 de la colonne \n",
    "data_visu_BOW2[\"Gen\"]=Gen_test_np\n",
    "print(accuracy_score(Titles_test_np, preds_BOW2)) "
   ]
  },
  {
   "cell_type": "code",
   "execution_count": 87,
   "metadata": {},
   "outputs": [
    {
     "name": "stdout",
     "output_type": "stream",
     "text": [
      "confusion_matrix :\n",
      " Predicted  nurse  surgeon\n",
      "Actual                   \n",
      "nurse       7149      327\n",
      "surgeon      455     4944 \n",
      "\n",
      "TP: 7149 \n",
      "TN: 4944 \n",
      "FN: 327 \n",
      "FP: 455\n",
      "\n",
      "Confusion matrix Men:\n",
      " Predicted  nurse  surgeon\n",
      "Actual                   \n",
      "nurse        617       41\n",
      "surgeon      366     4241 \n",
      "\n",
      "TP: 617 \n",
      "TN: 4241 \n",
      "FN: 41 \n",
      "FP: 366\n",
      "\n",
      "Confusion matrix Woman:\n",
      " Predicted  nurse  surgeon\n",
      "Actual                   \n",
      "nurse       6532      286\n",
      "surgeon       89      703 \n",
      "\n",
      "TP: 6532 \n",
      "TN: 703 \n",
      "FN: 286 \n",
      "FP: 89\n"
     ]
    }
   ],
   "source": [
    "T_(data_visu_BOW2)\n",
    "\n",
    "#all\n",
    "confusion_matrix_ = pd.crosstab(data_visu_BOW2['Titles_test_np'], data_visu_BOW2['Predic'], rownames=['Actual'], colnames=['Predicted'])\n",
    "print (\"confusion_matrix :\\n\",confusion_matrix_,\"\\n\")\n",
    "print(\"TP:\", len(data_visu_BOW2[data_visu_BOW2[\"T\"]==\"TP\"]),\"\\nTN:\",len(data_visu_BOW2[data_visu_BOW2[\"T\"]==\"TN\"]),\"\\nFN:\", len(data_visu_BOW2[data_visu_BOW2[\"T\"]==\"FN\"]),\"\\nFP:\", len(data_visu_BOW2[data_visu_BOW2[\"T\"]==\"FP\"]))\n",
    "\n",
    "# M\n",
    "confusion_mtrx,data_visu_BOW2_M=confusion_matrix(data_visu_BOW2, \"F\")\n",
    "print (\"\\nConfusion matrix Men:\\n\",confusion_mtrx,\"\\n\")\n",
    "print(\"TP:\", len(data_visu_BOW2_M[data_visu_BOW2_M[\"T\"]==\"TP\"]),\"\\nTN:\",len(data_visu_BOW2_M[data_visu_BOW2_M[\"T\"]==\"TN\"]),\"\\nFN:\", len(data_visu_BOW2_M[data_visu_BOW2_M[\"T\"]==\"FN\"]),\"\\nFP:\", len(data_visu_BOW2_M[data_visu_BOW2_M[\"T\"]==\"FP\"]))\n",
    "\n",
    "# F\n",
    "confusion_mtrx,data_visu_BOW2_F=confusion_matrix(data_visu_BOW2, \"M\")\n",
    "print (\"\\nConfusion matrix Woman:\\n\",confusion_mtrx,\"\\n\")\n",
    "print(\"TP:\", len(data_visu_BOW2_F[data_visu_BOW2_F[\"T\"]==\"TP\"]),\"\\nTN:\",len(data_visu_BOW2_F[data_visu_BOW2_F[\"T\"]==\"TN\"]),\"\\nFN:\", len(data_visu_BOW2_F[data_visu_BOW2_F[\"T\"]==\"FN\"]),\"\\nFP:\", len(data_visu_BOW2_F[data_visu_BOW2_F[\"T\"]==\"FP\"]))"
   ]
  }
 ],
 "metadata": {
  "colab": {
   "collapsed_sections": [
    "iJWXJ2TqVvFU",
    "Gcor1acjevpc",
    "m2qsRMFiXwlR"
   ],
   "name": "nurseVSphysician_final.ipynb",
   "provenance": [],
   "toc_visible": true
  },
  "kernelspec": {
   "display_name": "Python 3",
   "language": "python",
   "name": "python3"
  },
  "language_info": {
   "codemirror_mode": {
    "name": "ipython",
    "version": 3
   },
   "file_extension": ".py",
   "mimetype": "text/x-python",
   "name": "python",
   "nbconvert_exporter": "python",
   "pygments_lexer": "ipython3",
   "version": "3.6.9"
  }
 },
 "nbformat": 4,
 "nbformat_minor": 4
}
