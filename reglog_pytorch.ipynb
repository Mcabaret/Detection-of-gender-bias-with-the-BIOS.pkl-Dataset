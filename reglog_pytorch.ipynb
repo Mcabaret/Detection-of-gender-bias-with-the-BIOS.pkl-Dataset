{
 "cells": [
  {
   "cell_type": "code",
   "execution_count": 51,
   "id": "ideal-luther",
   "metadata": {},
   "outputs": [],
   "source": [
    "import torch\n",
    "from torch import Tensor\n",
    "from typing import Tuple\n",
    "import pickle\n",
    "import numpy as np\n",
    "from sklearn.model_selection import train_test_split\n",
    "import matplotlib.pyplot as plt\n",
    "from sklearn.metrics import accuracy_score"
   ]
  },
  {
   "cell_type": "code",
   "execution_count": null,
   "id": "6a50bcb7",
   "metadata": {},
   "outputs": [],
   "source": [
    "#data loading\n",
    "X_bw=pickle.load(open(\"X_bw_np_32186\", 'rb'))\n",
    "X_bw_nogen=pickle.load(open(\"X_bw_nogen_np_32186\",\"rb\"))\n",
    "Titles_=pickle.load(open(\"Titles_np_32186\",\"rb\"))\n",
    "Gen_=pickle.load(open(\"Gen_np_32186\",\"rb\"))"
   ]
  },
  {
   "cell_type": "code",
   "execution_count": 52,
   "id": "10c9c14e",
   "metadata": {},
   "outputs": [],
   "source": [
    "n=32186\n",
    "\n",
    "Gen_=Gen_[:n]\n",
    "Titles_=Titles_[:n]\n",
    "X_bw=X_bw[:n]\n",
    "X_bw_nogen=X_bw_nogen[:n]\n",
    "\n",
    "Titles=[]\n",
    "Gen=[]\n",
    "for i in range(len(Titles_)):\n",
    "    if Titles_[i]==\"nurse\" :\n",
    "        Titles.append([1])\n",
    "    else :\n",
    "        Titles.append([0])\n",
    "    if Gen_[i]==\"F\":\n",
    "        Gen.append([1])\n",
    "    else :\n",
    "        Gen.append([0])"
   ]
  },
  {
   "cell_type": "code",
   "execution_count": null,
   "id": "a467f629",
   "metadata": {},
   "outputs": [],
   "source": [
    "Gen =torch.FloatTensor(Gen)\n",
    "Titles = torch.FloatTensor(Titles) \n",
    "X_bw=torch.FloatTensor(X_bw.values.tolist())\n",
    "X_bw_nogen=torch.FloatTensor(X_bw_nogen.values.tolist())\n",
    "\n",
    "X_bw_train, X_bw_test, X_bw_nogen_train, X_bw_nogen_test, Titles_train, Titles_test, Gen_train, Gen_test = train_test_split(X_bw, X_bw_nogen, Titles, Gen, test_size = 0.4, random_state=0)"
   ]
  },
  {
   "cell_type": "code",
   "execution_count": 53,
   "id": "a7a5ab16",
   "metadata": {},
   "outputs": [
    {
     "name": "stdout",
     "output_type": "stream",
     "text": [
      "torch.Size([12875, 1005])\n"
     ]
    }
   ],
   "source": [
    "print(X_bw_test.shape)"
   ]
  },
  {
   "cell_type": "markdown",
   "id": "ef255112",
   "metadata": {},
   "source": [
    "## With gender information"
   ]
  },
  {
   "cell_type": "code",
   "execution_count": 54,
   "id": "favorite-split",
   "metadata": {},
   "outputs": [],
   "source": [
    "#parameters\n",
    "input_size = len(X_bw_train[0])\n",
    "opti_lr = 1e-3 #the learning step"
   ]
  },
  {
   "cell_type": "code",
   "execution_count": 55,
   "id": "stretch-indicator",
   "metadata": {},
   "outputs": [],
   "source": [
    "class Logistic_Reg_model(torch.nn.Module):\n",
    "    def __init__(self,input_dim):\n",
    "        super(Logistic_Reg_model,self).__init__()\n",
    "        self.layer1=torch.nn.Linear(input_dim,1)\n",
    "    def forward(self,x):\n",
    "        y_predicted=torch.sigmoid(self.layer1(x))\n",
    "        return y_predicted"
   ]
  },
  {
   "cell_type": "code",
   "execution_count": 56,
   "id": "6b61f0fe",
   "metadata": {},
   "outputs": [],
   "source": [
    "model_log = Logistic_Reg_model(input_size)\n",
    "criterion = torch.nn.BCELoss() \n",
    "optimizer = torch.optim.SGD(model_log.parameters(), lr=opti_lr) \n",
    "\n",
    "outputs = model_log(X_bw_train)"
   ]
  },
  {
   "cell_type": "code",
   "execution_count": 57,
   "id": "0ebbcf6d",
   "metadata": {},
   "outputs": [],
   "source": [
    "y_pred=1*(outputs.flatten()>0.5)\n",
    "y=Titles_train.flatten()\n",
    "\n",
    "n=X_bw_train.shape[0]\n",
    "\n",
    "obs_ids=np.arange(n)\n",
    "np.random.shuffle(obs_ids)"
   ]
  },
  {
   "cell_type": "code",
   "execution_count": 58,
   "id": "imperial-waste",
   "metadata": {},
   "outputs": [
    {
     "name": "stdout",
     "output_type": "stream",
     "text": [
      "epoch: 1\n",
      " -> loss= 0.5298199653625488\n",
      " -> error rate: tensor(0.1800)\n",
      "epoch: 2\n",
      " -> loss= 0.4748673737049103\n",
      " -> error rate: tensor(0.1700)\n",
      "epoch: 3\n",
      " -> loss= 0.4604087173938751\n",
      " -> error rate: tensor(0.1200)\n",
      "epoch: 4\n",
      " -> loss= 0.364236444234848\n",
      " -> error rate: tensor(0.1200)\n",
      "epoch: 5\n",
      " -> loss= 0.39433524012565613\n",
      " -> error rate: tensor(0.1200)\n",
      "epoch: 6\n",
      " -> loss= 0.3727198839187622\n",
      " -> error rate: tensor(0.1300)\n",
      "epoch: 7\n",
      " -> loss= 0.3373611569404602\n",
      " -> error rate: tensor(0.0800)\n",
      "epoch: 8\n",
      " -> loss= 0.32751795649528503\n",
      " -> error rate: tensor(0.0800)\n",
      "epoch: 9\n",
      " -> loss= 0.3105278015136719\n",
      " -> error rate: tensor(0.0600)\n",
      "epoch: 10\n",
      " -> loss= 0.32433077692985535\n",
      " -> error rate: tensor(0.1000)\n",
      "epoch: 11\n",
      " -> loss= 0.36762890219688416\n",
      " -> error rate: tensor(0.1100)\n",
      "epoch: 12\n",
      " -> loss= 0.25608837604522705\n",
      " -> error rate: tensor(0.0900)\n",
      "epoch: 13\n",
      " -> loss= 0.3190109431743622\n",
      " -> error rate: tensor(0.1200)\n",
      "epoch: 14\n",
      " -> loss= 0.29058003425598145\n",
      " -> error rate: tensor(0.1300)\n",
      "epoch: 15\n",
      " -> loss= 0.2800779640674591\n",
      " -> error rate: tensor(0.0700)\n",
      "epoch: 16\n",
      " -> loss= 0.3013697564601898\n",
      " -> error rate: tensor(0.1000)\n",
      "epoch: 17\n",
      " -> loss= 0.2617149353027344\n",
      " -> error rate: tensor(0.0700)\n",
      "epoch: 18\n",
      " -> loss= 0.32660865783691406\n",
      " -> error rate: tensor(0.1400)\n",
      "epoch: 19\n",
      " -> loss= 0.2887919545173645\n",
      " -> error rate: tensor(0.1100)\n",
      "epoch: 20\n",
      " -> loss= 0.2659401595592499\n",
      " -> error rate: tensor(0.0800)\n"
     ]
    }
   ],
   "source": [
    "number_of_epochs=20\n",
    "mini_batch_size=100\n",
    "\n",
    "n=X_bw_train.shape[0]\n",
    "\n",
    "list_convergence=[]\n",
    "\n",
    "for epoch in range(number_of_epochs): \n",
    "    obs_ids=np.arange(n)\n",
    "    np.random.shuffle(obs_ids)\n",
    "    \n",
    "    start_curr_obs=0\n",
    "    while start_curr_obs+mini_batch_size<n:  \n",
    "        Curr_obs=obs_ids[start_curr_obs:start_curr_obs+mini_batch_size]\n",
    "        \n",
    "        optimizer.zero_grad()\n",
    "        outputs = model_log(X_bw_train[Curr_obs,:])\n",
    "        loss = criterion(outputs, Titles_train[Curr_obs]) \n",
    "        loss.backward() \n",
    "        optimizer.step() \n",
    "        \n",
    "        start_curr_obs+=mini_batch_size\n",
    "        \n",
    "        y=Titles_train[Curr_obs].flatten()\n",
    "        y_hat=(1*(outputs>0.5)).flatten()\n",
    "        \n",
    "        list_convergence.append(torch.mean(torch.abs(y-y_hat)).item())\n",
    "    \n",
    "    if (epoch+1)%1 == 0:\n",
    "        y=Titles_train[Curr_obs].flatten()\n",
    "        y_hat=(1*(outputs>0.5)).flatten()\n",
    "        \n",
    "        print('epoch:', epoch+1)\n",
    "        print(' -> loss=',loss.item())\n",
    "        print(' -> error rate:',torch.mean(torch.abs(y-y_hat)))"
   ]
  },
  {
   "cell_type": "code",
   "execution_count": 59,
   "id": "e6c1cc76",
   "metadata": {},
   "outputs": [
    {
     "data": {
      "image/png": "[encoded data removed]",
      "text/plain": [
       "<Figure size 432x288 with 1 Axes>"
      ]
     },
     "metadata": {
      "needs_background": "light"
     },
     "output_type": "display_data"
    }
   ],
   "source": [
    "plt.plot(list_convergence)\n",
    "plt.show()"
   ]
  },
  {
   "cell_type": "code",
   "execution_count": 60,
   "id": "01ebade1",
   "metadata": {},
   "outputs": [
    {
     "name": "stdout",
     "output_type": "stream",
     "text": [
      "0.9220970873786408\n"
     ]
    }
   ],
   "source": [
    "prédiction=[]\n",
    "for i in X_bw_test:\n",
    "    if model_log(i) < 0.5 :\n",
    "        prédiction.append([0])\n",
    "    else:\n",
    "         prédiction.append([1])\n",
    "            \n",
    "prédiction=torch.FloatTensor(prédiction)\n",
    "\n",
    "print(accuracy_score(Titles_test[:,0], prédiction[:,0]))"
   ]
  },
  {
   "cell_type": "markdown",
   "id": "fe694498",
   "metadata": {},
   "source": [
    "## Without gender information"
   ]
  },
  {
   "cell_type": "code",
   "execution_count": 61,
   "id": "bizarre-wednesday",
   "metadata": {},
   "outputs": [],
   "source": [
    "#parameters\n",
    "input_size = len(X_bw_nogen_train[0])\n",
    "opti_lr = 1e-3"
   ]
  },
  {
   "cell_type": "code",
   "execution_count": 62,
   "id": "d9488264",
   "metadata": {},
   "outputs": [],
   "source": [
    "model_log = Logistic_Reg_model(input_size)\n",
    "criterion = torch.nn.BCELoss() \n",
    "optimizer = torch.optim.SGD(model_log.parameters(), lr=opti_lr)\n",
    "\n",
    "outputs = model_log(X_bw_nogen_train)"
   ]
  },
  {
   "cell_type": "code",
   "execution_count": 63,
   "id": "39ed2260",
   "metadata": {},
   "outputs": [],
   "source": [
    "y_pred=1*(outputs.flatten()>0.5)\n",
    "y=Titles_train.flatten()\n",
    "\n",
    "n=X_bw_train.shape[0]\n",
    "\n",
    "obs_ids=np.arange(n)\n",
    "np.random.shuffle(obs_ids)"
   ]
  },
  {
   "cell_type": "code",
   "execution_count": 64,
   "id": "8ec75a07",
   "metadata": {},
   "outputs": [
    {
     "name": "stdout",
     "output_type": "stream",
     "text": [
      "epoch: 1\n",
      " -> loss= 0.5667235851287842\n",
      " -> error rate: tensor(0.2400)\n",
      "epoch: 2\n",
      " -> loss= 0.5075277090072632\n",
      " -> error rate: tensor(0.1700)\n",
      "epoch: 3\n",
      " -> loss= 0.42724910378456116\n",
      " -> error rate: tensor(0.1100)\n",
      "epoch: 4\n",
      " -> loss= 0.39079105854034424\n",
      " -> error rate: tensor(0.1300)\n",
      "epoch: 5\n",
      " -> loss= 0.41451165080070496\n",
      " -> error rate: tensor(0.1700)\n",
      "epoch: 6\n",
      " -> loss= 0.3925171196460724\n",
      " -> error rate: tensor(0.1000)\n",
      "epoch: 7\n",
      " -> loss= 0.37130242586135864\n",
      " -> error rate: tensor(0.0800)\n",
      "epoch: 8\n",
      " -> loss= 0.3440420627593994\n",
      " -> error rate: tensor(0.0900)\n",
      "epoch: 9\n",
      " -> loss= 0.3734053075313568\n",
      " -> error rate: tensor(0.1500)\n",
      "epoch: 10\n",
      " -> loss= 0.3388291299343109\n",
      " -> error rate: tensor(0.1200)\n",
      "epoch: 11\n",
      " -> loss= 0.29844579100608826\n",
      " -> error rate: tensor(0.0900)\n",
      "epoch: 12\n",
      " -> loss= 0.31711670756340027\n",
      " -> error rate: tensor(0.1000)\n",
      "epoch: 13\n",
      " -> loss= 0.36808207631111145\n",
      " -> error rate: tensor(0.1800)\n",
      "epoch: 14\n",
      " -> loss= 0.33159512281417847\n",
      " -> error rate: tensor(0.1100)\n",
      "epoch: 15\n",
      " -> loss= 0.28574854135513306\n",
      " -> error rate: tensor(0.0800)\n",
      "epoch: 16\n",
      " -> loss= 0.2772081196308136\n",
      " -> error rate: tensor(0.0500)\n",
      "epoch: 17\n",
      " -> loss= 0.2521919012069702\n",
      " -> error rate: tensor(0.0900)\n",
      "epoch: 18\n",
      " -> loss= 0.2800312042236328\n",
      " -> error rate: tensor(0.1100)\n",
      "epoch: 19\n",
      " -> loss= 0.26089563965797424\n",
      " -> error rate: tensor(0.0600)\n",
      "epoch: 20\n",
      " -> loss= 0.35030654072761536\n",
      " -> error rate: tensor(0.1300)\n"
     ]
    }
   ],
   "source": [
    "model_log = Logistic_Reg_model(input_size)\n",
    "criterion = torch.nn.BCELoss() \n",
    "optimizer = torch.optim.SGD(model_log.parameters(), lr=opti_lr) \n",
    "\n",
    "number_of_epochs=20\n",
    "mini_batch_size=100\n",
    "\n",
    "n=X_bw_nogen_train.shape[0]\n",
    "\n",
    "list_convergence=[]\n",
    "\n",
    "for epoch in range(number_of_epochs): \n",
    "    obs_ids=np.arange(n)\n",
    "    np.random.shuffle(obs_ids)\n",
    "    \n",
    "    start_curr_obs=0\n",
    "    while start_curr_obs+mini_batch_size<n:  \n",
    "        Curr_obs=obs_ids[start_curr_obs:start_curr_obs+mini_batch_size]\n",
    "        \n",
    "        optimizer.zero_grad() \n",
    "        outputs = model_log(X_bw_nogen_train[Curr_obs,:])\n",
    "        loss = criterion(outputs, Titles_train[Curr_obs]) \n",
    "        loss.backward()\n",
    "        optimizer.step()\n",
    "        \n",
    "        start_curr_obs+=mini_batch_size\n",
    "        \n",
    "        y=Titles_train[Curr_obs].flatten()\n",
    "        y_hat=(1*(outputs>0.5)).flatten()\n",
    "        \n",
    "        list_convergence.append(torch.mean(torch.abs(y-y_hat)).item())\n",
    "    \n",
    "    if (epoch+1)%1 == 0:\n",
    "        y=Titles_train[Curr_obs].flatten()\n",
    "        y_hat=(1*(outputs>0.5)).flatten()\n",
    "        \n",
    "        print('epoch:', epoch+1)\n",
    "        print(' -> loss=',loss.item())\n",
    "        print(' -> error rate:',torch.mean(torch.abs(y-y_hat)))\n"
   ]
  },
  {
   "cell_type": "code",
   "execution_count": 65,
   "id": "2afec276",
   "metadata": {},
   "outputs": [
    {
     "data": {
      "image/png": "[encoded data removed]",
      "text/plain": [
       "<Figure size 432x288 with 1 Axes>"
      ]
     },
     "metadata": {
      "needs_background": "light"
     },
     "output_type": "display_data"
    }
   ],
   "source": [
    "plt.plot(list_convergence)\n",
    "plt.show()"
   ]
  },
  {
   "cell_type": "code",
   "execution_count": 66,
   "id": "0870f9e5",
   "metadata": {},
   "outputs": [
    {
     "name": "stdout",
     "output_type": "stream",
     "text": [
      "0.9192233009708738\n"
     ]
    }
   ],
   "source": [
    "prédiction=[]\n",
    "for i in X_bw_nogen_test:\n",
    "    if model_log(i) < 0.5 :\n",
    "        prédiction.append([0])\n",
    "    else:\n",
    "         prédiction.append([1])\n",
    "            \n",
    "prédiction=torch.FloatTensor(prédiction)\n",
    "\n",
    "print(accuracy_score(Titles_test[:,0], prédiction[:,0]))\n"
   ]
  }
 ],
 "metadata": {
  "kernelspec": {
   "display_name": "Python 3",
   "language": "python",
   "name": "python3"
  },
  "language_info": {
   "codemirror_mode": {
    "name": "ipython",
    "version": 3
   },
   "file_extension": ".py",
   "mimetype": "text/x-python",
   "name": "python",
   "nbconvert_exporter": "python",
   "pygments_lexer": "ipython3",
   "version": "3.6.9"
  }
 },
 "nbformat": 4,
 "nbformat_minor": 5
}
